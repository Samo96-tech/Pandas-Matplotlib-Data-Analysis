import pandas as pd
import numpy as np
import matplotlib.pyplot as plt
import seaborn as sns  # for nicer styling (optional)

# Set seaborn style for all plots (you can remove if you prefer pure matplotlib)
sns.set(style='whitegrid')

